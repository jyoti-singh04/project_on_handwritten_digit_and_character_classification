{
 "cells": [
  {
   "cell_type": "markdown",
   "id": "cd554ff1",
   "metadata": {},
   "source": [
    "## Import Libraries"
   ]
  },
  {
   "cell_type": "code",
   "execution_count": 72,
   "id": "c79eb1fe",
   "metadata": {},
   "outputs": [],
   "source": [
    "import keras\n",
    "from keras.datasets import mnist\n",
    "from keras.models import Sequential\n",
    "from keras.layers import Dense, Dropout, Flatten, Conv2D, MaxPooling2D\n",
    "from keras import backend as K"
   ]
  },
  {
   "cell_type": "code",
   "execution_count": 49,
   "id": "83c75111",
   "metadata": {},
   "outputs": [],
   "source": [
    "import tensorflow as tf\n",
    "import matplotlib.pyplot as plt\n",
    "import numpy as np"
   ]
  },
  {
   "cell_type": "code",
   "execution_count": 50,
   "id": "7208364c",
   "metadata": {},
   "outputs": [],
   "source": [
    "#the data\n",
    "(x_train, y_train), (x_test, y_test) = mnist.load_data()"
   ]
  },
  {
   "cell_type": "code",
   "execution_count": 51,
   "id": "3a1313dc",
   "metadata": {},
   "outputs": [
    {
     "name": "stdout",
     "output_type": "stream",
     "text": [
      "(60000, 28, 28) (60000,)\n",
      "(10000, 28, 28) (10000,)\n"
     ]
    }
   ],
   "source": [
    "print(x_train.shape, y_train.shape)\n",
    "print(x_test.shape, y_test.shape)"
   ]
  },
  {
   "cell_type": "markdown",
   "id": "cdbf5c22",
   "metadata": {},
   "source": [
    "## Preprocessing Data"
   ]
  },
  {
   "cell_type": "code",
   "execution_count": 52,
   "id": "132e1212",
   "metadata": {},
   "outputs": [],
   "source": [
    "x_train = x_train.reshape(x_train.shape[0], 28, 28, 1)\n",
    "x_test = x_test.reshape(x_test.shape[0], 28, 28, 1)\n",
    "\n",
    "input_shape = (28, 28, 1)\n"
   ]
  },
  {
   "cell_type": "code",
   "execution_count": 53,
   "id": "f34d3474",
   "metadata": {},
   "outputs": [],
   "source": [
    "y_train = keras.utils.to_categorical(y_train, 10)\n",
    "y_test = keras.utils.to_categorical(y_test, 10)\n",
    "\n",
    "x_train = x_train.astype('float32')\n",
    "x_train = x_train/255\n",
    "\n",
    "x_test = x_test.astype('float32')\n",
    "x_test =x_test/255"
   ]
  },
  {
   "cell_type": "code",
   "execution_count": 54,
   "id": "ad5e3dc2",
   "metadata": {},
   "outputs": [
    {
     "name": "stdout",
     "output_type": "stream",
     "text": [
      "x_train shape: (60000, 28, 28, 1)\n",
      "60000 train samples\n",
      "10000 test samples\n"
     ]
    }
   ],
   "source": [
    "print('x_train shape:', x_train.shape)\n",
    "print (x_train.shape[0], 'train samples')\n",
    "print (x_test.shape[0], 'test samples')"
   ]
  },
  {
   "cell_type": "markdown",
   "id": "99c89cf5",
   "metadata": {},
   "source": [
    "## Create the model"
   ]
  },
  {
   "cell_type": "code",
   "execution_count": 109,
   "id": "bfe96569",
   "metadata": {},
   "outputs": [],
   "source": [
    "batch_size = 128\n",
    "num_classes = 10\n",
    "epochs = 10\n"
   ]
  },
  {
   "cell_type": "code",
   "execution_count": 110,
   "id": "9e27ceb3",
   "metadata": {},
   "outputs": [],
   "source": [
    "model = Sequential()\n",
    "model.add(Conv2D(32, kernel_size = (3,3), activation = 'relu', input_shape = input_shape))\n",
    "model.add(Conv2D(64, kernel_size = (3,3), activation = 'relu'))\n",
    "model.add(MaxPooling2D(pool_size = (2, 2)))\n",
    "model.add(Dropout(0.25))\n",
    "model.add(Flatten())\n",
    "model.add(Dense(256, activation = 'relu'))\n",
    "model.add(Dropout(0.5))\n",
    "model.add(Dense(num_classes, activation = 'softmax')) \n",
    "model.compile(loss = keras.losses.categorical_crossentropy, optimizer = keras.optimizers.Adadelta(), metrics = ['accuracy'])\n",
    "\n"
   ]
  },
  {
   "cell_type": "markdown",
   "id": "c4749642",
   "metadata": {},
   "source": [
    "## Train the model"
   ]
  },
  {
   "cell_type": "code",
   "execution_count": 111,
   "id": "abe9c0e0",
   "metadata": {},
   "outputs": [
    {
     "name": "stdout",
     "output_type": "stream",
     "text": [
      "Epoch 1/10\n",
      "469/469 [==============================] - 57s 121ms/step - loss: 2.2864 - accuracy: 0.1667 - val_loss: 2.2600 - val_accuracy: 0.3287\n",
      "Epoch 2/10\n",
      "469/469 [==============================] - 63s 135ms/step - loss: 2.2429 - accuracy: 0.2890 - val_loss: 2.2072 - val_accuracy: 0.5000\n",
      "Epoch 3/10\n",
      "469/469 [==============================] - 63s 134ms/step - loss: 2.1861 - accuracy: 0.4011 - val_loss: 2.1335 - val_accuracy: 0.6124\n",
      "Epoch 4/10\n",
      "469/469 [==============================] - 62s 133ms/step - loss: 2.1035 - accuracy: 0.4853 - val_loss: 2.0230 - val_accuracy: 0.6730\n",
      "Epoch 5/10\n",
      "469/469 [==============================] - 61s 130ms/step - loss: 1.9783 - accuracy: 0.5601 - val_loss: 1.8572 - val_accuracy: 0.7240\n",
      "Epoch 6/10\n",
      "469/469 [==============================] - 61s 131ms/step - loss: 1.7994 - accuracy: 0.6076 - val_loss: 1.6249 - val_accuracy: 0.7752\n",
      "Epoch 7/10\n",
      "469/469 [==============================] - 61s 131ms/step - loss: 1.5708 - accuracy: 0.6467 - val_loss: 1.3515 - val_accuracy: 0.7986\n",
      "Epoch 8/10\n",
      "469/469 [==============================] - 67s 143ms/step - loss: 1.3336 - accuracy: 0.6781 - val_loss: 1.0967 - val_accuracy: 0.8149\n",
      "Epoch 9/10\n",
      "469/469 [==============================] - 67s 142ms/step - loss: 1.1396 - accuracy: 0.7034 - val_loss: 0.9034 - val_accuracy: 0.8258\n",
      "Epoch 10/10\n",
      "469/469 [==============================] - 66s 140ms/step - loss: 0.9955 - accuracy: 0.7257 - val_loss: 0.7703 - val_accuracy: 0.8375\n"
     ]
    }
   ],
   "source": [
    "history = model.fit(x_train, y_train, batch_size = 128, epochs = 10, validation_data = (x_test, y_test))\n"
   ]
  },
  {
   "cell_type": "markdown",
   "id": "48d2e219",
   "metadata": {},
   "source": [
    "## Evaluate the model"
   ]
  },
  {
   "cell_type": "code",
   "execution_count": 124,
   "id": "c1b6e073",
   "metadata": {},
   "outputs": [
    {
     "name": "stdout",
     "output_type": "stream",
     "text": [
      "313/313 [==============================] - 2s 8ms/step - loss: 0.7703 - accuracy: 0.8375\n",
      "[0.7702686786651611, 0.8374999761581421]\n"
     ]
    }
   ],
   "source": [
    "print(model.evaluate(x_test, y_test))"
   ]
  },
  {
   "cell_type": "code",
   "execution_count": null,
   "id": "83de19e9",
   "metadata": {},
   "outputs": [],
   "source": []
  },
  {
   "cell_type": "code",
   "execution_count": null,
   "id": "1ecfe500",
   "metadata": {},
   "outputs": [],
   "source": []
  },
  {
   "cell_type": "code",
   "execution_count": null,
   "id": "de0f9cbf",
   "metadata": {},
   "outputs": [],
   "source": []
  }
 ],
 "metadata": {
  "kernelspec": {
   "display_name": "Python 3",
   "language": "python",
   "name": "python3"
  },
  "language_info": {
   "codemirror_mode": {
    "name": "ipython",
    "version": 3
   },
   "file_extension": ".py",
   "mimetype": "text/x-python",
   "name": "python",
   "nbconvert_exporter": "python",
   "pygments_lexer": "ipython3",
   "version": "3.8.8"
  }
 },
 "nbformat": 4,
 "nbformat_minor": 5
}
